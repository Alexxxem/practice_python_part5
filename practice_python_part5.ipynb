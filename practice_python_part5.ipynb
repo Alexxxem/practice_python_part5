{
 "cells": [
  {
   "cell_type": "markdown",
   "id": "3ce80761",
   "metadata": {},
   "source": [
    "**1. Fizz Buzz**\n",
    "\n",
    "Дано: Число, как целочисленное (int).\n",
    "\n",
    "Задание:\n",
    "\n",
    "\"Fizz buzz\" это игра со словами, с помощью которой мы будем учить наших роботов делению. Давайте обучим компьютер.\n",
    "\n",
    "Вы должны написать программу, которая принимает положительное целое число и возвращает сл. значения.\n",
    "\n",
    "\"Fizz Buzz\", если число делится на 3 и 5;\n",
    "\n",
    "\"Fizz\", если число делится на 3;\n",
    "\n",
    "\"Buzz\", если число делится на 5;\n",
    "\n",
    "Число, как строку для остальных случаев."
   ]
  },
  {
   "cell_type": "code",
   "execution_count": 1,
   "id": "7c11cbca",
   "metadata": {},
   "outputs": [
    {
     "name": "stdout",
     "output_type": "stream",
     "text": [
      "Fizz Buzz\n",
      "Fizz\n",
      "Buzz\n",
      "8\n"
     ]
    }
   ],
   "source": [
    "def fizz_buzz (number):\n",
    "    if type(number) != int:\n",
    "        print(\"Введенное число не является целочисленным!\")\n",
    "        return\n",
    "    if number % 3 == 0 and number % 5 == 0:\n",
    "        print('Fizz Buzz')\n",
    "    elif number % 3 == 0:\n",
    "        print('Fizz')\n",
    "    elif number % 5 == 0:\n",
    "        print('Buzz')\n",
    "    else:\n",
    "        print(str(number))\n",
    "        \n",
    "# 1) Fizz Buzz\n",
    "number1 = 15\n",
    "number2 = 9\n",
    "number3 = 5\n",
    "number4 = 8\n",
    "fizz_buzz(number1)\n",
    "fizz_buzz(number2)\n",
    "fizz_buzz(number3)\n",
    "fizz_buzz(number4)"
   ]
  },
  {
   "cell_type": "markdown",
   "id": "c119d8a5",
   "metadata": {},
   "source": [
    "**2. Оценка числа**\n",
    "\n",
    "Дано: Число x.\n",
    "\n",
    "Задание: нужно написать программу, которая дает оценку заданному значению, используя следующие правила.\n",
    "\n",
    "если x нечетное, то это \"Плохо\"\n",
    "\n",
    "если x = [2, 5] и четное, то это \"Неплохо\"\n",
    "\n",
    "если x = [6, 20] и четное, то это \"Так себе\"\n",
    "\n",
    "если x > 20 и четное, то это \"Отлично\""
   ]
  },
  {
   "cell_type": "code",
   "execution_count": 2,
   "id": "73d9ef9e",
   "metadata": {},
   "outputs": [
    {
     "name": "stdout",
     "output_type": "stream",
     "text": [
      "Плохо\n",
      "Неплохо\n",
      "Так себе\n",
      "Отлично\n"
     ]
    }
   ],
   "source": [
    "def number_score(number):\n",
    "    if number % 2 == 1:\n",
    "        print('Плохо')\n",
    "    elif 2 <= number < 6:\n",
    "        print('Неплохо')\n",
    "    elif 6 <= number < 21:\n",
    "        print('Так себе')\n",
    "    elif number > 20:\n",
    "        print('Отлично')\n",
    "        \n",
    "# 2) Number score\n",
    "number1 = 13\n",
    "number2 = 4\n",
    "number3 = 18\n",
    "number4 = 24\n",
    "number_score(number1)\n",
    "number_score(number2)\n",
    "number_score(number3)\n",
    "number_score(number4)"
   ]
  },
  {
   "cell_type": "markdown",
   "id": "9a050401",
   "metadata": {},
   "source": [
    "**3. Последовательность**\n",
    "\n",
    "Дано: Число N = [1-9].\n",
    "\n",
    "Задание: нужно написать программу, которая выведет последовательность 123..N"
   ]
  },
  {
   "cell_type": "code",
   "execution_count": 4,
   "id": "e7a0bc1c",
   "metadata": {},
   "outputs": [
    {
     "name": "stdout",
     "output_type": "stream",
     "text": [
      "12345\n",
      "Число не в интервале [1-9]\n"
     ]
    }
   ],
   "source": [
    "def sequence(number):\n",
    "    if 1 <= number <= 9:\n",
    "        for i in range(1, number+1):\n",
    "            print(i, end='')\n",
    "    else:\n",
    "        print('\\nЧисло не в интервале [1-9]')\n",
    "        return\n",
    "    \n",
    "# 3) Sequence\n",
    "number1 = 5\n",
    "number2 = 11\n",
    "sequence(number1)\n",
    "sequence(number2)"
   ]
  },
  {
   "cell_type": "markdown",
   "id": "8db0bdd1",
   "metadata": {},
   "source": [
    "**4. Секретное сообщение**\n",
    "Дано: Дан кусок текста (str).\n",
    "\n",
    "Задание: Соберите все заглавные буквы в одно слово в том порядке как они встречаются в куске текста. Подсказка: посмотрите внимательно на методы класса str."
   ]
  },
  {
   "cell_type": "code",
   "execution_count": 5,
   "id": "81418eff",
   "metadata": {},
   "outputs": [
    {
     "name": "stdout",
     "output_type": "stream",
     "text": [
      "HELLO\n"
     ]
    }
   ],
   "source": [
    "def secret_message(text):\n",
    "    result = ''\n",
    "    for i in text:\n",
    "        if i.isupper():\n",
    "            result += i\n",
    "    print(result)\n",
    "    \n",
    "# 4) Secret message\n",
    "text = 'How are you? Eh, ok. Low or Lower? Ohhh.'\n",
    "secret_message(text)"
   ]
  },
  {
   "cell_type": "markdown",
   "id": "fd537821",
   "metadata": {},
   "source": [
    "**[Junior] 5. Три слова**\n",
    "\n",
    "Давайте научим наших роботов отличать слова от чисел.\n",
    "\n",
    "Дана строка со словами и числами, разделенными пробелами (один пробел между словами и/или числами). Слова состоят только из букв.\n",
    "\n",
    "Дано: Строка со словами (str).\n",
    "\n",
    "Задание: напишите программу, которая проверяет есть ли в исходной строке три слова подряд. Для примера, в строке \"start 5 one two three 7 end\" есть три слова подряд."
   ]
  },
  {
   "cell_type": "code",
   "execution_count": 6,
   "id": "147c3aac",
   "metadata": {},
   "outputs": [
    {
     "name": "stdout",
     "output_type": "stream",
     "text": [
      "True\n",
      "False\n"
     ]
    }
   ],
   "source": [
    "def three_words(text):\n",
    "    count = 0\n",
    "    for i in text.split():\n",
    "        if i.isalpha():\n",
    "            count += 1\n",
    "            if count == 3:\n",
    "                return True\n",
    "        elif i.isdecimal():\n",
    "            count = 0\n",
    "    return False\n",
    "\n",
    "# 5) Three words\n",
    "text1 = \"Hello World hello\"\n",
    "text2 = \"He is 123 man\"\n",
    "print(three_words(text1))\n",
    "print(three_words(text2))"
   ]
  },
  {
   "cell_type": "markdown",
   "id": "520ff4c0",
   "metadata": {},
   "source": [
    "**[Junior+] 6. Мир захватили левши**\n",
    "Дано: последовательность строк.\n",
    "\n",
    "Задание: вы должны объединить эти строки в блок текста, разделив изначальные строки запятыми. В качестве шутки над праворукими роботами, вы должны заменить все вхождения слова \"right\" на слова \"left\", даже если это часть другого слова. Все строки даны в нижнем регистре.\n",
    "\n",
    "Примеры:\n",
    "\n",
    "[\"left\", \"right\", \"left\", \"stop\"], результат: \"left,left,left,stop\"\n",
    "\n",
    "[\"bright aright\", \"ok\"], результат: \"bleft aleft,ok\"\n",
    "\n",
    "[\"enough\", \"jokes\"], результат: \"enough,jokes\""
   ]
  },
  {
   "cell_type": "code",
   "execution_count": 7,
   "id": "75603d7d",
   "metadata": {},
   "outputs": [
    {
     "name": "stdout",
     "output_type": "stream",
     "text": [
      "left,bleft,left,left,alleft,ok,stop\n"
     ]
    }
   ],
   "source": [
    "def right_to_left(text):\n",
    "    result = ''\n",
    "    new_text = ','.join(text)\n",
    "    for i in new_text.split():\n",
    "        result += i.replace('right', 'left')\n",
    "    print(result)\n",
    "    \n",
    "# 6) Changing all words \"right\" to \"left\"\n",
    "text = ['left', 'bright', 'right', 'left', 'alright', 'ok', 'stop']\n",
    "right_to_left(text)"
   ]
  },
  {
   "cell_type": "code",
   "execution_count": null,
   "id": "50a9ea2c",
   "metadata": {},
   "outputs": [],
   "source": []
  }
 ],
 "metadata": {
  "kernelspec": {
   "display_name": "Python 3 (ipykernel)",
   "language": "python",
   "name": "python3"
  },
  "language_info": {
   "codemirror_mode": {
    "name": "ipython",
    "version": 3
   },
   "file_extension": ".py",
   "mimetype": "text/x-python",
   "name": "python",
   "nbconvert_exporter": "python",
   "pygments_lexer": "ipython3",
   "version": "3.10.8"
  }
 },
 "nbformat": 4,
 "nbformat_minor": 5
}
